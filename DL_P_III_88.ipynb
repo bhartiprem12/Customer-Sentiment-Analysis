{
 "cells": [
  {
   "cell_type": "code",
   "execution_count": 1,
   "id": "m0ItiJmmGvTX",
   "metadata": {
    "colab": {
     "base_uri": "https://localhost:8080/"
    },
    "id": "m0ItiJmmGvTX",
    "outputId": "5c6f945e-903a-47d5-b471-feb933f4a948"
   },
   "outputs": [],
   "source": [
    "# # Mounting the google drive\n",
    "from google.colab import drive\n",
    "drive.mount('/content/drive')"
   ]
  },
  {
   "cell_type": "code",
   "execution_count": 2,
   "id": "e4dba4dd",
   "metadata": {
    "id": "e4dba4dd"
   },
   "outputs": [],
   "source": [
    "import nltk\n",
    "import pandas as pd\n",
    "from nltk.corpus import stopwords\n",
    "from textblob import Word\n",
    "from sklearn.preprocessing import LabelEncoder\n",
    "from collections import Counter\n",
    "import wordcloud\n",
    "from sklearn.metrics import classification_report,confusion_matrix,accuracy_score\n",
    "from keras.models import Sequential\n",
    "from keras.preprocessing.text import Tokenizer\n",
    "from keras_preprocessing.sequence import pad_sequences\n",
    "from keras.layers import Dense, Embedding, LSTM, SpatialDropout1D\n",
    "from sklearn.model_selection import train_test_split \n",
    "import matplotlib.pyplot as plt\n",
    "\n",
    "import keras\n",
    "from keras.models import Sequential\n",
    "from keras.layers import Dense,Activation,Dropout \n",
    "\n",
    "import pandas as pd\n",
    "import numpy as np\n",
    "import re\n",
    "import collections"
   ]
  },
  {
   "cell_type": "code",
   "execution_count": 3,
   "id": "cfbfe3dd",
   "metadata": {
    "colab": {
     "base_uri": "https://localhost:8080/",
     "height": 206
    },
    "id": "cfbfe3dd",
    "outputId": "76ed3e8d-60c8-4a88-d706-1792228e1ecd"
   },
   "outputs": [
    {
     "data": {
      "text/html": [
       "<div>\n",
       "<style scoped>\n",
       "    .dataframe tbody tr th:only-of-type {\n",
       "        vertical-align: middle;\n",
       "    }\n",
       "\n",
       "    .dataframe tbody tr th {\n",
       "        vertical-align: top;\n",
       "    }\n",
       "\n",
       "    .dataframe thead th {\n",
       "        text-align: right;\n",
       "    }\n",
       "</style>\n",
       "<table border=\"1\" class=\"dataframe\">\n",
       "  <thead>\n",
       "    <tr style=\"text-align: right;\">\n",
       "      <th></th>\n",
       "      <th>Category</th>\n",
       "      <th>Descript</th>\n",
       "    </tr>\n",
       "  </thead>\n",
       "  <tbody>\n",
       "    <tr>\n",
       "      <th>0</th>\n",
       "      <td>complaint</td>\n",
       "      <td>The give me a room which was so smelly and the...</td>\n",
       "    </tr>\n",
       "    <tr>\n",
       "      <th>1</th>\n",
       "      <td>meaningless</td>\n",
       "      <td>Unfortunately there was a mix up with my Passp...</td>\n",
       "    </tr>\n",
       "    <tr>\n",
       "      <th>2</th>\n",
       "      <td>comment</td>\n",
       "      <td>The (basic) room was comfortable and not too s...</td>\n",
       "    </tr>\n",
       "    <tr>\n",
       "      <th>3</th>\n",
       "      <td>comment</td>\n",
       "      <td>Our primary concierge, [name[, was amazing in ...</td>\n",
       "    </tr>\n",
       "    <tr>\n",
       "      <th>4</th>\n",
       "      <td>complaint</td>\n",
       "      <td>We booked through Priceline (paying more than ...</td>\n",
       "    </tr>\n",
       "  </tbody>\n",
       "</table>\n",
       "</div>"
      ],
      "text/plain": [
       "      Category                                           Descript\n",
       "0    complaint  The give me a room which was so smelly and the...\n",
       "1  meaningless  Unfortunately there was a mix up with my Passp...\n",
       "2      comment  The (basic) room was comfortable and not too s...\n",
       "3      comment  Our primary concierge, [name[, was amazing in ...\n",
       "4    complaint  We booked through Priceline (paying more than ..."
      ]
     },
     "execution_count": 3,
     "metadata": {},
     "output_type": "execute_result"
    }
   ],
   "source": [
    "df = pd.read_csv('text_dataset - Sheet1 (1).csv')\n",
    "df.head()"
   ]
  },
  {
   "cell_type": "code",
   "execution_count": 4,
   "id": "adf10ee8",
   "metadata": {
    "colab": {
     "base_uri": "https://localhost:8080/",
     "height": 206
    },
    "id": "adf10ee8",
    "outputId": "be4dea84-aef8-4d53-fcda-9ee0b96244c3"
   },
   "outputs": [
    {
     "data": {
      "text/html": [
       "<div>\n",
       "<style scoped>\n",
       "    .dataframe tbody tr th:only-of-type {\n",
       "        vertical-align: middle;\n",
       "    }\n",
       "\n",
       "    .dataframe tbody tr th {\n",
       "        vertical-align: top;\n",
       "    }\n",
       "\n",
       "    .dataframe thead th {\n",
       "        text-align: right;\n",
       "    }\n",
       "</style>\n",
       "<table border=\"1\" class=\"dataframe\">\n",
       "  <thead>\n",
       "    <tr style=\"text-align: right;\">\n",
       "      <th></th>\n",
       "      <th>Category</th>\n",
       "      <th>Descript</th>\n",
       "    </tr>\n",
       "  </thead>\n",
       "  <tbody>\n",
       "    <tr>\n",
       "      <th>4681</th>\n",
       "      <td>complaint</td>\n",
       "      <td>What a load of crap, have to watch an ad each ...</td>\n",
       "    </tr>\n",
       "    <tr>\n",
       "      <th>5617</th>\n",
       "      <td>comment</td>\n",
       "      <td>This is a great game that my mother and I enjo...</td>\n",
       "    </tr>\n",
       "    <tr>\n",
       "      <th>1905</th>\n",
       "      <td>complaint</td>\n",
       "      <td>You can install it, but you can't import ebooks.</td>\n",
       "    </tr>\n",
       "    <tr>\n",
       "      <th>464</th>\n",
       "      <td>complaint</td>\n",
       "      <td>I hate it.</td>\n",
       "    </tr>\n",
       "    <tr>\n",
       "      <th>807</th>\n",
       "      <td>comment</td>\n",
       "      <td>would recommend a second time.</td>\n",
       "    </tr>\n",
       "  </tbody>\n",
       "</table>\n",
       "</div>"
      ],
      "text/plain": [
       "       Category                                           Descript\n",
       "4681  complaint  What a load of crap, have to watch an ad each ...\n",
       "5617    comment  This is a great game that my mother and I enjo...\n",
       "1905  complaint   You can install it, but you can't import ebooks.\n",
       "464   complaint                                         I hate it.\n",
       "807     comment                     would recommend a second time."
      ]
     },
     "execution_count": 4,
     "metadata": {},
     "output_type": "execute_result"
    }
   ],
   "source": [
    "df = df.reindex(np.random.permutation(df.index))  \n",
    "df = df[['Category', 'Descript']]\n",
    "df.head()"
   ]
  },
  {
   "cell_type": "code",
   "execution_count": 5,
   "id": "6e501ff9",
   "metadata": {
    "colab": {
     "base_uri": "https://localhost:8080/"
    },
    "id": "6e501ff9",
    "outputId": "fe636652-e9ea-473f-d91c-ee2ab3caf65e"
   },
   "outputs": [
    {
     "name": "stderr",
     "output_type": "stream",
     "text": [
      "[nltk_data] Downloading package stopwords to\n",
      "[nltk_data]     C:\\Users\\91983\\AppData\\Roaming\\nltk_data...\n",
      "[nltk_data]   Package stopwords is already up-to-date!\n"
     ]
    },
    {
     "data": {
      "text/plain": [
       "True"
      ]
     },
     "execution_count": 5,
     "metadata": {},
     "output_type": "execute_result"
    }
   ],
   "source": [
    "import matplotlib.pyplot as plt\n",
    "import seaborn as sns\n",
    "#pip3 install nltk\n",
    "nltk.download('stopwords')"
   ]
  },
  {
   "cell_type": "code",
   "execution_count": 6,
   "id": "d481383a",
   "metadata": {
    "colab": {
     "base_uri": "https://localhost:8080/",
     "height": 297
    },
    "id": "d481383a",
    "outputId": "b651bffc-7ca0-4aab-f9e7-b5223cd8f071"
   },
   "outputs": [
    {
     "data": {
      "text/plain": [
       "<AxesSubplot:xlabel='Category', ylabel='count'>"
      ]
     },
     "execution_count": 6,
     "metadata": {},
     "output_type": "execute_result"
    },
    {
     "data": {
      "image/png": "[encoded data removed]",
      "text/plain": [
       "<Figure size 432x288 with 1 Axes>"
      ]
     },
     "metadata": {
      "needs_background": "light"
     },
     "output_type": "display_data"
    }
   ],
   "source": [
    "sns.countplot(x='Category', data=df)"
   ]
  },
  {
   "cell_type": "code",
   "execution_count": 7,
   "id": "51669fb8",
   "metadata": {
    "id": "51669fb8"
   },
   "outputs": [],
   "source": [
    "NB_WORDS = 5016 # Parameter indicating the number of words we'll put in the dictionary \n",
    "# VAL_SIZE = 1000 # Size of the validation set \n",
    "EPOCHS = 20 # Number of epochs we usually start to train with \n",
    "BATCH_SIZE = 64 # Size of the batches used in the mini-batch gradient descent"
   ]
  },
  {
   "cell_type": "code",
   "execution_count": 8,
   "id": "e4c3cf66",
   "metadata": {
    "colab": {
     "base_uri": "https://localhost:8080/",
     "height": 206
    },
    "id": "e4c3cf66",
    "outputId": "8f4e397a-78d8-4c15-cd37-dc0cd3079dbf"
   },
   "outputs": [
    {
     "data": {
      "text/html": [
       "<div>\n",
       "<style scoped>\n",
       "    .dataframe tbody tr th:only-of-type {\n",
       "        vertical-align: middle;\n",
       "    }\n",
       "\n",
       "    .dataframe tbody tr th {\n",
       "        vertical-align: top;\n",
       "    }\n",
       "\n",
       "    .dataframe thead th {\n",
       "        text-align: right;\n",
       "    }\n",
       "</style>\n",
       "<table border=\"1\" class=\"dataframe\">\n",
       "  <thead>\n",
       "    <tr style=\"text-align: right;\">\n",
       "      <th></th>\n",
       "      <th>Category</th>\n",
       "      <th>Descript</th>\n",
       "    </tr>\n",
       "  </thead>\n",
       "  <tbody>\n",
       "    <tr>\n",
       "      <th>4681</th>\n",
       "      <td>complaint</td>\n",
       "      <td>What load crap, watch ad time crashes.</td>\n",
       "    </tr>\n",
       "    <tr>\n",
       "      <th>5617</th>\n",
       "      <td>comment</td>\n",
       "      <td>This great game mother enjoy together.</td>\n",
       "    </tr>\n",
       "    <tr>\n",
       "      <th>1905</th>\n",
       "      <td>complaint</td>\n",
       "      <td>You install it, can't import ebooks.</td>\n",
       "    </tr>\n",
       "    <tr>\n",
       "      <th>464</th>\n",
       "      <td>complaint</td>\n",
       "      <td>hate it.</td>\n",
       "    </tr>\n",
       "    <tr>\n",
       "      <th>807</th>\n",
       "      <td>comment</td>\n",
       "      <td>would recommend second time.</td>\n",
       "    </tr>\n",
       "  </tbody>\n",
       "</table>\n",
       "</div>"
      ],
      "text/plain": [
       "       Category                                Descript\n",
       "4681  complaint  What load crap, watch ad time crashes.\n",
       "5617    comment  This great game mother enjoy together.\n",
       "1905  complaint    You install it, can't import ebooks.\n",
       "464   complaint                                hate it.\n",
       "807     comment            would recommend second time."
      ]
     },
     "execution_count": 8,
     "metadata": {},
     "output_type": "execute_result"
    }
   ],
   "source": [
    "def remove_stopwords(input_text):\n",
    "  stopwords_list = stopwords.words('english')\n",
    "  # Some words which might indicate a certain sentiment are kept via a whitelist\n",
    "  whitelist = [\"n't\", \"not\", \"no\",\"yes\"]\n",
    "  words = input_text.split() \n",
    "  clean_words = [word for word in words if (word not in stopwords_list or word in whitelist) and len(word) > 1] \n",
    "  return \" \".join(clean_words) \n",
    "    \n",
    "def remove_mentions(input_text):\n",
    "  return re.sub(r'@\\w+', '', input_text)\n",
    "       \n",
    "df.Descript = df.Descript.apply(remove_stopwords).apply(remove_mentions)\n",
    "df.head()"
   ]
  },
  {
   "cell_type": "code",
   "execution_count": 9,
   "id": "654499d6",
   "metadata": {
    "id": "654499d6"
   },
   "outputs": [],
   "source": [
    "from sklearn.model_selection import train_test_split\n",
    "from keras.preprocessing.text import Tokenizer\n",
    "from keras.utils.np_utils import to_categorical\n",
    "from sklearn.preprocessing import LabelEncoder"
   ]
  },
  {
   "cell_type": "code",
   "execution_count": 10,
   "id": "f4698ebc",
   "metadata": {
    "colab": {
     "base_uri": "https://localhost:8080/"
    },
    "id": "f4698ebc",
    "outputId": "da00b5c1-6fd1-4dd9-e972-2e7178e1cb07"
   },
   "outputs": [
    {
     "name": "stdout",
     "output_type": "stream",
     "text": [
      "Training Data: 5957\n",
      "Test Data: 1490\n"
     ]
    }
   ],
   "source": [
    "X_train, X_test, y_train, y_test = train_test_split(df.Descript, df.Category, test_size=0.2, random_state=37)\n",
    "print('Training Data:', X_train.shape[0])\n",
    "print('Test Data:', X_test.shape[0])"
   ]
  },
  {
   "cell_type": "code",
   "execution_count": 11,
   "id": "07feed27",
   "metadata": {
    "colab": {
     "base_uri": "https://localhost:8080/"
    },
    "id": "07feed27",
    "outputId": "415fba8c-d59e-481f-b39d-8cfd1c3a33ba"
   },
   "outputs": [
    {
     "name": "stdout",
     "output_type": "stream",
     "text": [
      "Top 5 most common words are: [('the', 751), ('hotel', 600), ('not', 593), ('room', 445), ('it', 355)]\n"
     ]
    }
   ],
   "source": [
    "tk = Tokenizer(num_words=NB_WORDS,\n",
    "               filters='!\"#$%&()*+,-./:;<=>?@[\\\\]^_`{|}~\\t\\n',\n",
    "               lower=True,\n",
    "               split=\" \")\n",
    "tk.fit_on_texts(X_train)\n",
    "print('Top 5 most common words are:', collections.Counter(tk.word_counts).most_common(5))"
   ]
  },
  {
   "cell_type": "code",
   "execution_count": 12,
   "id": "ae13f956",
   "metadata": {
    "colab": {
     "base_uri": "https://localhost:8080/"
    },
    "id": "ae13f956",
    "outputId": "97de4bcf-feea-4a8b-b5f4-7c156268273f"
   },
   "outputs": [
    {
     "name": "stdout",
     "output_type": "stream",
     "text": [
      "Found 5016 unique tokens.\n"
     ]
    }
   ],
   "source": [
    "word_index = tk.word_index\n",
    "print('Found %s unique tokens.' % len(word_index))"
   ]
  },
  {
   "cell_type": "code",
   "execution_count": 13,
   "id": "2ddba732",
   "metadata": {
    "id": "2ddba732"
   },
   "outputs": [],
   "source": [
    "X_train_seq = tk.texts_to_sequences(X_train)\n",
    "X_test_seq = tk.texts_to_sequences(X_test)"
   ]
  },
  {
   "cell_type": "code",
   "execution_count": 14,
   "id": "411e9cfa",
   "metadata": {
    "id": "411e9cfa"
   },
   "outputs": [],
   "source": [
    "#X_train_seq "
   ]
  },
  {
   "cell_type": "code",
   "execution_count": 15,
   "id": "28be3d25",
   "metadata": {
    "id": "28be3d25"
   },
   "outputs": [],
   "source": [
    "#X_test_seq"
   ]
  },
  {
   "cell_type": "code",
   "execution_count": 16,
   "id": "e7d1e140",
   "metadata": {
    "colab": {
     "base_uri": "https://localhost:8080/"
    },
    "id": "e7d1e140",
    "outputId": "2ca25063-5ffe-4bc5-b782-1078ebc20a44"
   },
   "outputs": [
    {
     "data": {
      "text/plain": [
       "count    5957.000000\n",
       "mean        6.910693\n",
       "std         4.748024\n",
       "min         1.000000\n",
       "25%         4.000000\n",
       "50%         6.000000\n",
       "75%         9.000000\n",
       "max        59.000000\n",
       "Name: Descript, dtype: float64"
      ]
     },
     "execution_count": 16,
     "metadata": {},
     "output_type": "execute_result"
    }
   ],
   "source": [
    "seq_lengths = X_train.apply(lambda x: len(x.split(' ')))\n",
    "seq_lengths.describe()"
   ]
  },
  {
   "cell_type": "code",
   "execution_count": 17,
   "id": "cf931832",
   "metadata": {
    "id": "cf931832"
   },
   "outputs": [],
   "source": [
    "def Findmaxlen(data):\n",
    "    l=0\n",
    "    for i in data:\n",
    "        l=max(l,len(i))\n",
    "    return l;"
   ]
  },
  {
   "cell_type": "code",
   "execution_count": 18,
   "id": "20cd6fa3",
   "metadata": {
    "colab": {
     "base_uri": "https://localhost:8080/"
    },
    "id": "20cd6fa3",
    "outputId": "80a2e145-cb81-43dc-bfc7-847bc4a46647"
   },
   "outputs": [
    {
     "data": {
      "text/plain": [
       "60"
      ]
     },
     "execution_count": 18,
     "metadata": {},
     "output_type": "execute_result"
    }
   ],
   "source": [
    "MAX_LEN = max(Findmaxlen(X_train_seq),Findmaxlen(X_train_seq))\n",
    "X_train_seq_trunc = pad_sequences(X_train_seq, maxlen=MAX_LEN)\n",
    "X_test_seq_trunc = pad_sequences(X_test_seq, maxlen=MAX_LEN)\n",
    "MAX_LEN"
   ]
  },
  {
   "cell_type": "code",
   "execution_count": 19,
   "id": "019e8a64",
   "metadata": {
    "id": "019e8a64"
   },
   "outputs": [],
   "source": [
    "#X_train_seq_trunc"
   ]
  },
  {
   "cell_type": "code",
   "execution_count": 20,
   "id": "e42cc8af",
   "metadata": {
    "id": "e42cc8af"
   },
   "outputs": [],
   "source": [
    "#X_test_seq_trunc"
   ]
  },
  {
   "cell_type": "code",
   "execution_count": 21,
   "id": "0c1cab52",
   "metadata": {
    "id": "0c1cab52"
   },
   "outputs": [],
   "source": [
    "le = LabelEncoder()\n",
    "y_train_le = le.fit_transform(y_train)\n",
    "y_test_le = le.transform(y_test)\n",
    "y_train_oh = to_categorical(y_train_le)\n",
    "y_test_oh = to_categorical(y_test_le)"
   ]
  },
  {
   "cell_type": "code",
   "execution_count": 22,
   "id": "f81e8568",
   "metadata": {
    "colab": {
     "base_uri": "https://localhost:8080/"
    },
    "id": "f81e8568",
    "outputId": "7c21704b-9688-4db2-dfb6-60266ae3d5cf"
   },
   "outputs": [
    {
     "data": {
      "text/plain": [
       "array([1, 3, 2, ..., 1, 1, 2])"
      ]
     },
     "execution_count": 22,
     "metadata": {},
     "output_type": "execute_result"
    }
   ],
   "source": [
    "y_train_le"
   ]
  },
  {
   "cell_type": "code",
   "execution_count": 23,
   "id": "a4c287b0",
   "metadata": {
    "id": "a4c287b0"
   },
   "outputs": [],
   "source": [
    "#y_test_le"
   ]
  },
  {
   "cell_type": "code",
   "execution_count": 24,
   "id": "d92c2014",
   "metadata": {
    "id": "d92c2014"
   },
   "outputs": [],
   "source": [
    "#y_train_oh"
   ]
  },
  {
   "cell_type": "code",
   "execution_count": 25,
   "id": "db639b69",
   "metadata": {
    "colab": {
     "base_uri": "https://localhost:8080/"
    },
    "id": "db639b69",
    "outputId": "89ce4a56-2a5e-496f-b02b-4096aa597789"
   },
   "outputs": [
    {
     "data": {
      "text/plain": [
       "array([[0., 0., 0., 1., 0., 0.],\n",
       "       [0., 0., 0., 0., 1., 0.],\n",
       "       [0., 1., 0., 0., 0., 0.],\n",
       "       ...,\n",
       "       [0., 0., 1., 0., 0., 0.],\n",
       "       [0., 0., 1., 0., 0., 0.],\n",
       "       [0., 1., 0., 0., 0., 0.]], dtype=float32)"
      ]
     },
     "execution_count": 25,
     "metadata": {},
     "output_type": "execute_result"
    }
   ],
   "source": [
    "y_test_oh"
   ]
  },
  {
   "cell_type": "code",
   "execution_count": 26,
   "id": "af2d679f",
   "metadata": {
    "id": "af2d679f"
   },
   "outputs": [],
   "source": [
    "from keras import models\n",
    "from keras import layers"
   ]
  },
  {
   "cell_type": "code",
   "execution_count": 27,
   "id": "XSNT_sRLJ-dm",
   "metadata": {
    "colab": {
     "base_uri": "https://localhost:8080/"
    },
    "id": "XSNT_sRLJ-dm",
    "outputId": "14945d93-f295-4296-8c2e-728acfbe404c"
   },
   "outputs": [
    {
     "name": "stdout",
     "output_type": "stream",
     "text": [
      "Model: \"sequential\"\n",
      "_________________________________________________________________\n",
      " Layer (type)                Output Shape              Param #   \n",
      "=================================================================\n",
      " embedding (Embedding)       (None, 60, 120)           600960    \n",
      "                                                                 \n",
      " spatial_dropout1d (SpatialD  (None, 60, 120)          0         \n",
      " ropout1D)                                                       \n",
      "                                                                 \n",
      " lstm (LSTM)                 (None, 176)               209088    \n",
      "                                                                 \n",
      " dense (Dense)               (None, 1000)              177000    \n",
      "                                                                 \n",
      " dense_1 (Dense)             (None, 500)               500500    \n",
      "                                                                 \n",
      " dense_2 (Dense)             (None, 100)               50100     \n",
      "                                                                 \n",
      " dense_3 (Dense)             (None, 50)                5050      \n",
      "                                                                 \n",
      " dense_4 (Dense)             (None, 20)                1020      \n",
      "                                                                 \n",
      " dense_5 (Dense)             (None, 10)                210       \n",
      "                                                                 \n",
      " dense_6 (Dense)             (None, 6)                 66        \n",
      "                                                                 \n",
      "=================================================================\n",
      "Total params: 1,543,994\n",
      "Trainable params: 1,543,994\n",
      "Non-trainable params: 0\n",
      "_________________________________________________________________\n",
      "None\n"
     ]
    }
   ],
   "source": [
    "model=Sequential()\n",
    "\n",
    "model.add(layers.Embedding(NB_WORDS, 120, input_length=MAX_LEN))\n",
    "model.add(SpatialDropout1D(0.4))\n",
    "model.add(LSTM(176, dropout=0.2, recurrent_dropout=0.2))\n",
    "\n",
    "# Applying Dense Layer\n",
    "model.add(Dense(1000,activation='relu'))\n",
    "model.add(Dense(500,activation='relu'))\n",
    "model.add(Dense(100,activation='relu'))\n",
    "model.add(Dense(50,activation='relu'))\n",
    "model.add(Dense(20,activation='relu'))\n",
    "model.add(Dense(10,activation='relu'))\n",
    "\n",
    "# Getting the last layer as an output...\n",
    "model.add(layers.Dense(6, activation='softmax'))\n",
    "model.compile(loss='categorical_crossentropy', optimizer='adam', metrics=['accuracy'])\n",
    "\n",
    "print(model.summary())"
   ]
  },
  {
   "cell_type": "code",
   "execution_count": 28,
   "id": "9640c3b8",
   "metadata": {
    "colab": {
     "base_uri": "https://localhost:8080/"
    },
    "id": "405e70b3",
    "outputId": "bdbc64fe-734a-4f34-a663-3a1b93de7250"
   },
   "outputs": [
    {
     "name": "stdout",
     "output_type": "stream",
     "text": [
      "Epoch 1/20\n",
      "94/94 [==============================] - 59s 533ms/step - loss: 1.1618 - accuracy: 0.5491 - val_loss: 0.9590 - val_accuracy: 0.6517\n",
      "Epoch 2/20\n",
      "94/94 [==============================] - 43s 461ms/step - loss: 0.8009 - accuracy: 0.7067 - val_loss: 0.7303 - val_accuracy: 0.7477\n",
      "Epoch 3/20\n",
      "94/94 [==============================] - 43s 459ms/step - loss: 0.5549 - accuracy: 0.8056 - val_loss: 0.6090 - val_accuracy: 0.7846\n",
      "Epoch 4/20\n",
      "94/94 [==============================] - 41s 441ms/step - loss: 0.4299 - accuracy: 0.8435 - val_loss: 0.5759 - val_accuracy: 0.8101\n",
      "Epoch 5/20\n",
      "94/94 [==============================] - 42s 446ms/step - loss: 0.3492 - accuracy: 0.8692 - val_loss: 0.5604 - val_accuracy: 0.8201\n",
      "Epoch 6/20\n",
      "94/94 [==============================] - 42s 448ms/step - loss: 0.3109 - accuracy: 0.8795 - val_loss: 0.4799 - val_accuracy: 0.8302\n",
      "Epoch 7/20\n",
      "94/94 [==============================] - 48s 516ms/step - loss: 0.2683 - accuracy: 0.8942 - val_loss: 0.4688 - val_accuracy: 0.8604\n",
      "Epoch 8/20\n",
      "94/94 [==============================] - 50s 532ms/step - loss: 0.2503 - accuracy: 0.8994 - val_loss: 0.4136 - val_accuracy: 0.8510\n",
      "Epoch 9/20\n",
      "94/94 [==============================] - 51s 543ms/step - loss: 0.2218 - accuracy: 0.9031 - val_loss: 0.4717 - val_accuracy: 0.8591\n",
      "Epoch 10/20\n",
      "94/94 [==============================] - 55s 580ms/step - loss: 0.2107 - accuracy: 0.9036 - val_loss: 0.4831 - val_accuracy: 0.8664\n",
      "Epoch 11/20\n",
      "94/94 [==============================] - 55s 588ms/step - loss: 0.2067 - accuracy: 0.9119 - val_loss: 0.4112 - val_accuracy: 0.8691\n",
      "Epoch 12/20\n",
      "94/94 [==============================] - 52s 558ms/step - loss: 0.1889 - accuracy: 0.9179 - val_loss: 0.4549 - val_accuracy: 0.8658\n",
      "Epoch 13/20\n",
      "94/94 [==============================] - 52s 554ms/step - loss: 0.2342 - accuracy: 0.9048 - val_loss: 0.4175 - val_accuracy: 0.8732\n",
      "Epoch 14/20\n",
      "94/94 [==============================] - 62s 659ms/step - loss: 0.1738 - accuracy: 0.9226 - val_loss: 0.5094 - val_accuracy: 0.8779\n",
      "Epoch 15/20\n",
      "94/94 [==============================] - 62s 655ms/step - loss: 0.1629 - accuracy: 0.9253 - val_loss: 0.4482 - val_accuracy: 0.8819\n",
      "Epoch 16/20\n",
      "94/94 [==============================] - 58s 615ms/step - loss: 0.1550 - accuracy: 0.9339 - val_loss: 0.4866 - val_accuracy: 0.8899\n",
      "Epoch 17/20\n",
      "94/94 [==============================] - 68s 728ms/step - loss: 0.1449 - accuracy: 0.9340 - val_loss: 0.5289 - val_accuracy: 0.8980\n",
      "Epoch 18/20\n",
      "94/94 [==============================] - 51s 543ms/step - loss: 0.1407 - accuracy: 0.9320 - val_loss: 0.4410 - val_accuracy: 0.8872\n",
      "Epoch 19/20\n",
      "94/94 [==============================] - 51s 546ms/step - loss: 0.1321 - accuracy: 0.9391 - val_loss: 0.5227 - val_accuracy: 0.8973\n",
      "Epoch 20/20\n",
      "94/94 [==============================] - 52s 548ms/step - loss: 0.1279 - accuracy: 0.9392 - val_loss: 0.5288 - val_accuracy: 0.8819\n"
     ]
    }
   ],
   "source": [
    "history = model.fit(X_train_seq_trunc, y_train_oh, epochs=20, batch_size=BATCH_SIZE, validation_data=(X_test_seq_trunc, y_test_oh))"
   ]
  },
  {
   "cell_type": "code",
   "execution_count": 29,
   "id": "db181045",
   "metadata": {
    "colab": {
     "base_uri": "https://localhost:8080/"
    },
    "id": "db181045",
    "outputId": "5fb11cb1-5e5a-4b07-9bfc-13cc999686a1"
   },
   "outputs": [
    {
     "name": "stdout",
     "output_type": "stream",
     "text": [
      "47/47 [==============================] - 4s 91ms/step - loss: 0.5288 - accuracy: 0.8819\n"
     ]
    }
   ],
   "source": [
    "test_model = model.evaluate(X_test_seq_trunc, y_test_oh)"
   ]
  },
  {
   "cell_type": "code",
   "execution_count": 30,
   "id": "19f45c9e",
   "metadata": {
    "colab": {
     "base_uri": "https://localhost:8080/"
    },
    "id": "19f45c9e",
    "outputId": "2cf75e8a-b28a-4a3e-f300-afc2f82eba99"
   },
   "outputs": [],
   "source": [
    "pr=model.predict(X_test_seq_trunc)"
   ]
  },
  {
   "cell_type": "code",
   "execution_count": 31,
   "id": "b9f8ef80",
   "metadata": {
    "colab": {
     "base_uri": "https://localhost:8080/"
    },
    "id": "b9f8ef80",
    "outputId": "8cb8bb4b-7bdc-46fd-ee07-b8ac6e4475d1"
   },
   "outputs": [
    {
     "data": {
      "text/plain": [
       "array([[3.6360034e-05, 3.0788532e-04, 9.5073496e-08, 9.9965465e-01,\n",
       "        8.7506629e-07, 2.9971496e-08],\n",
       "       [9.5252814e-03, 6.3307357e-01, 3.6649071e-02, 2.9815587e-01,\n",
       "        1.7564703e-02, 5.0314595e-03],\n",
       "       [2.6958154e-27, 1.0000000e+00, 7.7911615e-15, 5.2375823e-13,\n",
       "        8.2207816e-25, 5.3304977e-34],\n",
       "       ...,\n",
       "       [4.1219014e-06, 3.4011948e-05, 9.9986708e-01, 6.0422292e-12,\n",
       "        9.4766852e-05, 2.7847187e-09],\n",
       "       [1.6181714e-04, 8.9109102e-07, 9.6711171e-01, 2.3611165e-12,\n",
       "        3.2725420e-02, 8.7559471e-08],\n",
       "       [5.2753525e-27, 1.0000000e+00, 4.6090855e-13, 4.8486347e-15,\n",
       "        9.7321159e-25, 1.7652300e-34]], dtype=float32)"
      ]
     },
     "execution_count": 31,
     "metadata": {},
     "output_type": "execute_result"
    }
   ],
   "source": [
    "pr"
   ]
  },
  {
   "cell_type": "code",
   "execution_count": 32,
   "id": "38ebc4f9",
   "metadata": {
    "colab": {
     "base_uri": "https://localhost:8080/"
    },
    "id": "38ebc4f9",
    "outputId": "5ec5839e-8356-411e-b989-731b32c31873"
   },
   "outputs": [
    {
     "name": "stdout",
     "output_type": "stream",
     "text": [
      "Test accuracy is 88.19%\n"
     ]
    }
   ],
   "source": [
    "print('Test accuracy is {0:.2f}%'.format(test_model[1] * 100))"
   ]
  },
  {
   "cell_type": "code",
   "execution_count": null,
   "id": "LZOAR02ISShX",
   "metadata": {
    "id": "LZOAR02ISShX"
   },
   "outputs": [],
   "source": []
  }
 ],
 "metadata": {
  "accelerator": "GPU",
  "colab": {
   "provenance": []
  },
  "gpuClass": "standard",
  "kernelspec": {
   "display_name": "Python 3.8.3 ('base')",
   "language": "python",
   "name": "python3"
  },
  "language_info": {
   "codemirror_mode": {
    "name": "ipython",
    "version": 3
   },
   "file_extension": ".py",
   "mimetype": "text/x-python",
   "name": "python",
   "nbconvert_exporter": "python",
   "pygments_lexer": "ipython3",
   "version": "3.8.3"
  },
  "vscode": {
   "interpreter": {
    "hash": "4de28da549dea9ba7c1c313f927a49026fb03bd8cbb01e74b472c5721df53530"
   }
  }
 },
 "nbformat": 4,
 "nbformat_minor": 5
}
